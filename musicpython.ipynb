{
 "cells": [
  {
   "cell_type": "code",
   "execution_count": 7,
   "id": "118443d1",
   "metadata": {},
   "outputs": [
    {
     "name": "stderr",
     "output_type": "stream",
     "text": [
      "C:\\Users\\srish\\AppData\\Roaming\\Python\\Python310\\site-packages\\sklearn\\base.py:493: UserWarning: X does not have valid feature names, but DecisionTreeClassifier was fitted with feature names\n",
      "  warnings.warn(\n"
     ]
    },
    {
     "data": {
      "text/plain": [
       "array(['Dance', 'Classical'], dtype=object)"
      ]
     },
     "execution_count": 7,
     "metadata": {},
     "output_type": "execute_result"
    }
   ],
   "source": [
    "import pandas as pd\n",
    "from sklearn.tree import DecisionTreeClassifier\n",
    "music=pd.read_csv('music.csv')\n",
    "X=music.drop(columns=['genre'])\n",
    "#only genre column dropped \n",
    "Y=music['genre']\n",
    "#only genre column is kept \n",
    "\n",
    "model=DecisionTreeClassifier()\n",
    "#0 represent female \n",
    "#1 represent male \n",
    "# we used decison tree for prefiction which we took from sckitlearn \n",
    "model.fit(X,Y)\n",
    "predictions=model.predict([[21,0],[40,1]])\n",
    "predictions\n"
   ]
  },
  {
   "cell_type": "code",
   "execution_count": null,
   "id": "eecfa5fc",
   "metadata": {},
   "outputs": [],
   "source": []
  },
  {
   "cell_type": "code",
   "execution_count": 9,
   "id": "e9c96857",
   "metadata": {},
   "outputs": [
    {
     "name": "stderr",
     "output_type": "stream",
     "text": [
      "C:\\Users\\srish\\AppData\\Roaming\\Python\\Python310\\site-packages\\sklearn\\base.py:493: UserWarning: X does not have valid feature names, but DecisionTreeClassifier was fitted with feature names\n",
      "  warnings.warn(\n"
     ]
    },
    {
     "data": {
      "text/plain": [
       "array(['Dance', 'Classical'], dtype=object)"
      ]
     },
     "execution_count": 9,
     "metadata": {},
     "output_type": "execute_result"
    }
   ],
   "source": [
    "import pandas as pd\n",
    "from sklearn.tree import DecisionTreeClassifier\n",
    "from sklearn.model_selection import train_test_split\n",
    "\n",
    "music=pd.read_csv('music.csv')\n",
    "X=music.drop(columns=['genre'])\n",
    "#only genre column dropped \n",
    "Y=music['genre']\n",
    "#only genre column is kept \n",
    "\n",
    "#now splitting data into training and testing \n",
    "x_train,x_test,y_train,y_test=train_test_split(X,Y,test_size=0.2)\n",
    "\n",
    "model=DecisionTreeClassifier()\n",
    "#0 represent female \n",
    "#1 represent male \n",
    "# we used decison tree for prefiction which we took from sckitlearn \n",
    "model.fit(x_train,y_train)\n",
    "predictions=model.predict([[21,0],[40,1]])\n",
    "predictions"
   ]
  },
  {
   "cell_type": "code",
   "execution_count": 13,
   "id": "2087a771",
   "metadata": {},
   "outputs": [
    {
     "data": {
      "text/plain": [
       "0.5"
      ]
     },
     "execution_count": 13,
     "metadata": {},
     "output_type": "execute_result"
    }
   ],
   "source": [
    "#now testing the accuracy \n",
    "\n",
    "import pandas as pd\n",
    "from sklearn.tree import DecisionTreeClassifier\n",
    "from sklearn.model_selection import train_test_split\n",
    "from sklearn.metrics import accuracy_score\n",
    "\n",
    "music=pd.read_csv('music.csv')\n",
    "X=music.drop(columns=['genre'])\n",
    "#only genre column dropped \n",
    "Y=music['genre']\n",
    "#only genre column is kept \n",
    "\n",
    "#now splitting data into training and testing \n",
    "x_train,x_test,y_train,y_test=train_test_split(X,Y,test_size=0.2)\n",
    "\n",
    "model=DecisionTreeClassifier()\n",
    "#0 represent female \n",
    "#1 represent male \n",
    "# we used decison tree for prefiction which we took from sckitlearn \n",
    "model.fit(x_train,y_train)\n",
    "predictions=model.predict(x_test)\n",
    "accuracy_score(y_test,predictions)\n"
   ]
  },
  {
   "cell_type": "code",
   "execution_count": 16,
   "id": "f2561fcb",
   "metadata": {},
   "outputs": [
    {
     "data": {
      "text/plain": [
       "0     9\n",
       "1     8\n",
       "2     0\n",
       "3    56\n",
       "dtype: int64"
      ]
     },
     "execution_count": 16,
     "metadata": {},
     "output_type": "execute_result"
    }
   ],
   "source": [
    "my_list=[9,8,0,56]\n",
    "my_new=pd.Series(my_list)\n",
    "my_new"
   ]
  },
  {
   "cell_type": "code",
   "execution_count": null,
   "id": "c08d87fd",
   "metadata": {},
   "outputs": [],
   "source": []
  }
 ],
 "metadata": {
  "kernelspec": {
   "display_name": "Python 3 (ipykernel)",
   "language": "python",
   "name": "python3"
  },
  "language_info": {
   "codemirror_mode": {
    "name": "ipython",
    "version": 3
   },
   "file_extension": ".py",
   "mimetype": "text/x-python",
   "name": "python",
   "nbconvert_exporter": "python",
   "pygments_lexer": "ipython3",
   "version": "3.10.0"
  }
 },
 "nbformat": 4,
 "nbformat_minor": 5
}
